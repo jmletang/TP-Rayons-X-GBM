{
 "cells": [
  {
   "cell_type": "markdown",
   "metadata": {},
   "source": [
    "# Travaux Pratiques d'imagerie par rayons X\n",
    "NB : Vous pouvez travailler en groupe mais le travail est à rendre individuellement."
   ]
  },
  {
   "cell_type": "code",
   "execution_count": 1,
   "metadata": {},
   "outputs": [],
   "source": [
    "import numpy as np\n",
    "import xraylib as xrl\n",
    "from xpecgen import xpecgen as xg\n",
    "import ipywidgets as widgets\n",
    "from tabletext import to_text\n",
    "%matplotlib inline\n",
    "import matplotlib.pyplot as plt\n",
    "import matplotlib.ticker as tic\n",
    "import matplotlib as mpl\n",
    "from matplotlib.ticker import (MultipleLocator, FormatStrFormatter, AutoMinorLocator)"
   ]
  },
  {
   "cell_type": "markdown",
   "metadata": {},
   "source": [
    "# Loi d'atténuation\n",
    "Le but est de retrouver le coefficient d’atténuation à 100 keV de matériaux à travers une simulation réaliste en utilisant la loi de Beer-Lambert :\n",
    "$$\n",
    "N_{\\mathrm{dt}}=N_0\\exp(-\\mu(E)X)\n",
    "$$\n",
    "où $N_0$ est le nombre de photons incident sur l'objet d'épaisseur $X$ et $\\mu$ le coefficient d'atténuation linéique à l'énergie $E$.\n",
    "\n",
    "## Conditions expérimentales\n",
    "Le code suivant simule un nombre de photons détectés après avoir traversé 0.1 mm de plomb (Pb, densité 11.35 g.cm$^{⁻3}$) et 3.9 cm de polyéthylène (H$_2$C, densité 0.94 g.cm$^{⁻3}$) étant donné un nombre de photons incidents. Le processus stochastique d'atténuation est reproduit (par une loi de probabilité de Poisson).\n",
    "\n",
    "## Travail demandé\n",
    "Retrouvez le coefficient d'atténuation du plomb et du polyéthylène à 100 keV avec une précision de $10^{-3}$. Il vous faudra adapter le nombre de photons envoyés. Pour mémoire, la loi de propagation d'erreur d'une fonction $y(x_1, ..., x_N)$ est\n",
    "$$\n",
    "\\mathrm{Var}[y]=\\sum_{i=1}^N\\left(\\dfrac{\\partial y}{\\partial x_i}\\right)^2\\mathrm{Var}[x_i]\n",
    "$$\n",
    "où la variance $\\mathrm{Var}[]$ représente le carré de l'erreur (ou écart-type).\n",
    "\n",
    "Vérifiez la concordance du résultat obtenu avec le coefficient d’atténuation linéique théorique obtenu sur la base de données [XCOM](http://physics.nist.gov/PhysRefData/Xcom/html/xcom1.html) de [NIST](http://www.nist.gov/pml/data/xray_gammaray.cfm)."
   ]
  },
  {
   "cell_type": "code",
   "execution_count": 2,
   "metadata": {},
   "outputs": [
    {
     "data": {
      "application/vnd.jupyter.widget-view+json": {
       "model_id": "ab0057d3cd3041f29be9e09bacf2edc8",
       "version_major": 2,
       "version_minor": 0
      },
      "text/plain": [
       "interactive(children=(IntText(value=100, description='Nombre de photons émis :', style=DescriptionStyle(descri…"
      ]
     },
     "metadata": {},
     "output_type": "display_data"
    }
   ],
   "source": [
    "def formula(compound):\n",
    "    elt_CP = [xrl.AtomicNumberToSymbol(compound['Elements'][i]) for i in range(compound['nElements'])]\n",
    "    atf_CP = [compound['massFractions'][i]/xrl.AtomicWeight(compound['Elements'][i])\n",
    "              for i in range(compound['nElements'])]\n",
    "    atfn_CP = [str(atf/min(atf_CP)) for atf in atf_CP]\n",
    "    return \"\".join(np.core.defchararray.add(elt_CP,atfn_CP))\n",
    "\n",
    "def simulator(N0):\n",
    "    cpH2C = xrl.GetCompoundDataNISTByName('Polyethylene') \n",
    "    dH2C = cpH2C['density']\n",
    "    fPE = formula(cpH2C)\n",
    "    NdtH2C = np.random.poisson(N0*np.exp(-3.9*dH2C*xrl.CS_Total_CP(fPE, 100)))\n",
    "    print('%d photons ont traversé la plaque de 3.9 cm de polyéthylène sur %d envoyés' % (NdtH2C,N0))\n",
    "    dPb = xrl.ElementDensity(82)\n",
    "    NdtPb = np.random.poisson(N0*np.exp(-0.01*dPb*xrl.CS_Total(82, 100)))\n",
    "    print('%d photons ont traversé la plaque de 0.1 mm de plomb sur %d envoyés' % (NdtPb,N0))\n",
    "\n",
    "widgets.interact_manual(simulator,\n",
    "                        N0=widgets.IntText(value=100,description=\"Nombre de photons émis :\",disabled=False,\n",
    "                                           style={'description_width': 'initial'}));"
   ]
  },
  {
   "cell_type": "markdown",
   "metadata": {},
   "source": [
    "# Étude du polychromatisme\n",
    "\n",
    "La largeur du spectre en énergie des photons incidents a une forte influence sur la formation de\n",
    "l’image radiologique. Nous l’étudions ici.\n",
    "\n",
    "## Conditions expérimentales. \n",
    "\n",
    "Le logiciel de simulation ci-dessous permet de calculer des spectres tels que générés par les générateurs de rayons X en précisant :\n",
    "- la haute tension U d’accélération des électrons\n",
    "- l'épaisseur et la nature d'une plaque insérée dans le faisceau \n",
    "\n",
    "Certaines grandeurs associées aux spectres sont calculées en sortie notamment\n",
    "- la couche de demi-atténuation (en mm d’Al),\n",
    "- l’énergie moyenne des photons du spectre\n",
    "\n",
    "Nota Bene : caractéristiques du tube X\n",
    "- réglé pour avoir 1mGy à 1m dans l'air en absence objet\n",
    "- filtration interne de 1.2mm d'aluminium\n",
    "\n",
    "\n",
    "## Travail demandé. \n",
    "\n",
    "Nous allons observer l’évolution du spectre en fonction de l’épaisseur et de la nature d'une plaque insérée dans le faisceau. Utilisez les widgets pour sélectionner le matériau et l'épaisseur de la plaque.\n",
    "- Tracez l'énergie moyenne des photons transmis derrière une plaque en fonction de son épaisseur pour des plaques en cuivre puis en plomb. Quelles sont les valeurs limites ?\n",
    "- Expliquez la différence entre les deux spectres transmis (plomb vs cuivre) en regardant les coefficients d'atténuation correspondants, disponibles dans le jupyter notebook ci-dessous.\n",
    "- Déterminez pour ce spectre de rayons X de 100 kV les 10 premiers HVL (couche de demi-valeur) exprimés en mm d'aluminium. Expliquez la valeur limite.\n",
    "- Pour l'ensemble des matériaux proposés dans le menu déroulant, trouvez l'épaisseur de plaque correspondante qui supprime les énergies en dessous de 40 keV. Expliquez les différences. Vérifiez que ce filtre fonctionne également pour d'autres tensions."
   ]
  },
  {
   "cell_type": "code",
   "execution_count": 3,
   "metadata": {
    "scrolled": false
   },
   "outputs": [
    {
     "data": {
      "application/vnd.jupyter.widget-view+json": {
       "model_id": "989c36a9c7ab45f4ae6a9ad128a19a9d",
       "version_major": 2,
       "version_minor": 0
      },
      "text/plain": [
       "interactive(children=(IntText(value=100, description='Haute tension (kV) :', style=DescriptionStyle(descriptio…"
      ]
     },
     "metadata": {},
     "output_type": "display_data"
    }
   ],
   "source": [
    "def spectrum(E0,Mat_Z,Mat_X):\n",
    "    xrs=xg.calculate_spectrum(E0,12,3,100,epsrel=0.5,monitor=None,z=74)\n",
    "    #Inherent filtration: 1.2mm Al + 100cm Air\n",
    "    mu_Al=xg.get_mu(13)\n",
    "    xrs.attenuate(0.12,mu_Al)\n",
    "    xrs.attenuate(100,xg.get_mu(\"air\"))\n",
    "    fluence_to_dose=xg.get_fluence_to_dose()\n",
    "    xrs.set_norm(value=0.146,weight=fluence_to_dose)\n",
    "    #Attenuation\n",
    "    if Mat_Z>0: #Atomic number\n",
    "        dMat = xrl.ElementDensity(Mat_Z)\n",
    "        fMat = xrl.AtomicNumberToSymbol(Mat_Z)\n",
    "        xrs.attenuate(0.1*Mat_X,xg.get_mu(Mat_Z))\n",
    "    else: #-1 == 'Water'\n",
    "        mH2O = 2. * xrl.AtomicWeight(1) + xrl.AtomicWeight(8)\n",
    "        wH = 0.1 * Mat_X * 2. * xrl.AtomicWeight(1) / (xrl.ElementDensity(1) * mH2O)\n",
    "        wO = 0.1 * Mat_X * xrl.AtomicWeight(8) / (xrl.ElementDensity(8) * mH2O)\n",
    "        xrs.attenuate(wH,xg.get_mu(1))\n",
    "        xrs.attenuate(wO,xg.get_mu(8))\n",
    "    #Get the figures\n",
    "    Nr_Photons = \"%.4g\" % (xrs.get_norm())\n",
    "    Average_Energy = \"%.2f keV\" % (xrs.get_norm(lambda x:x)/xrs.get_norm())\n",
    "    Dose = \"%.3g mGy\" % (xrs.get_norm(fluence_to_dose))    \n",
    "    HVL_Al=xrs.hvl(0.5,fluence_to_dose,mu_Al)\n",
    "    HVL_Al_text = \"%.2f mm (Al)\" % (10*HVL_Al)\n",
    "    a = [[\"Dose à 1m\", Dose],[\"Nombre total de photons\", Nr_Photons],\n",
    "         [\"Énergie moyenne des photons\",Average_Energy],[\"Couche de Demie-Atténuation\", HVL_Al_text]]\n",
    "    print(to_text(a))\n",
    "    (x2,y2) = xrs.get_points()\n",
    "    plt.figure(1,dpi=150)\n",
    "    mpl.rcParams.update({'font.size': 6})\n",
    "    axMW = plt.subplot(111)\n",
    "    axMW.plot(x2,y2)\n",
    "    axMW.set_xlim(3,E0)\n",
    "    axMW.set_ylim(0,)\n",
    "    plt.xlabel(\"Énergie [keV]\")\n",
    "    plt.ylabel(\"Nombre de photons par [keV·cm²·mGy] @ 1m\")\n",
    "    axMW.grid(which='major', axis='x', linewidth=0.5, linestyle='-', color='0.75')\n",
    "    axMW.grid(which='minor', axis='x', linewidth=0.2, linestyle='-', color='0.85')\n",
    "    axMW.grid(which='major', axis='y', linewidth=0.5, linestyle='-', color='0.75')\n",
    "    axMW.grid(which='minor', axis='y', linewidth=0.2, linestyle='-', color='0.85')\n",
    "    axMW.xaxis.set_major_formatter(tic.FormatStrFormatter(\"%d\"))\n",
    "    axMW.yaxis.set_major_formatter(tic.FormatStrFormatter(\"%.2g\"))\n",
    "    axMW.xaxis.set_minor_locator(AutoMinorLocator())\n",
    "    axMW.yaxis.set_minor_locator(AutoMinorLocator())\n",
    "    axMW.grid(True)\n",
    "    plt.show()\n",
    "\n",
    "widgets.interact_manual(spectrum, \n",
    "                E0 = widgets.IntText(value=100,step=1,description=\"Haute tension (kV) :\",disabled=False,\n",
    "                                     style={'description_width': 'initial'}),\n",
    "                Mat_Z = widgets.Dropdown(options=[('eau',-1),('aluminium',13),('cuivre',29),('plomb',82)],\n",
    "                                         value=-1,layout={'width': 'max-content'},description='Matériau :',\n",
    "                                         style={'description_width': 'initial'}),\n",
    "                Mat_X = widgets.FloatText(value=0.,step=0.01,description=\"Épaisseur (mm) :\",disabled=False,\n",
    "                                          style={'description_width': 'initial'}));\n"
   ]
  },
  {
   "cell_type": "markdown",
   "metadata": {},
   "source": [
    "# Coefficient d'atténuation linéique\n",
    "$$\n",
    "\\mu = \\sum_{i\\in\\mathsf{Interactions}} \\mu_i = \\rho \\frac{\\mathcal{N}_A}{A} \\left(\n",
    "\\sum_{i\\in\\mathsf{Interactions}}\\sigma_i\\right)\n",
    "$$\n",
    "où $\\sigma_i$, qui ne dépend pas de la densité $\\rho$, est la section efficace (en cm$^2$) de l'interaction $i$ pour le materiau"
   ]
  },
  {
   "cell_type": "code",
   "execution_count": 4,
   "metadata": {},
   "outputs": [
    {
     "data": {
      "application/vnd.jupyter.widget-view+json": {
       "model_id": "69d8203159e94767a31363e0bc4f825c",
       "version_major": 2,
       "version_minor": 0
      },
      "text/plain": [
       "interactive(children=(IntSlider(value=13, description='Z', max=92, min=1), Checkbox(value=False, description='…"
      ]
     },
     "metadata": {},
     "output_type": "display_data"
    }
   ],
   "source": [
    "def mu(Z=13,components=False):\n",
    "    energy_range = np.arange(5.,800., 0.1, dtype=np.double)\n",
    "    density = xrl.ElementDensity(Z)\n",
    "    mu_rho = [xrl.CS_Total(Z, E) * density for E in energy_range]\n",
    "    if components:\n",
    "        mu_rho_Photo = [xrl.CS_Photo(Z, E) * density for E in energy_range]\n",
    "        mu_rho_Compt = [xrl.CS_Compt(Z, E) * density for E in energy_range]\n",
    "        mu_rho_Rayl = [xrl.CS_Rayl(Z, E) * density for E in energy_range]\n",
    "    plt.figure(dpi=150)\n",
    "    mpl.rcParams.update({'font.size': 6})\n",
    "    axMW = plt.subplot(111)\n",
    "    axMW.plot(energy_range, mu_rho,color=\"black\",linewidth=2.,linestyle=\"-\",label='Total')\n",
    "    if components:\n",
    "        axMW.plot(energy_range, mu_rho_Photo,color=\"red\",linewidth=2.,linestyle=\"-\",label='Photoelectric')\n",
    "        axMW.plot(energy_range, mu_rho_Compt,color=\"blue\",linewidth=2.,linestyle=\"-\",label='Compton')\n",
    "        axMW.plot(energy_range, mu_rho_Rayl,color=\"green\",linewidth=2.,linestyle=\"-\",label='Rayleigh')\n",
    "    axMW.set_xscale('log')\n",
    "    axMW.set_yscale('log')\n",
    "    axMW.set_xlim(5.,800.)\n",
    "    plt.legend(loc='center right', frameon=True)\n",
    "    plt.xlabel('Énergie (keV)')\n",
    "    plt.ylabel(\"Coefficient d'atténuation linéique (cm$^{-1}$)\")\n",
    "    axMW.grid(which='major', axis='x', linewidth=0.5, linestyle='-', color='0.75')\n",
    "    axMW.grid(which='minor', axis='x', linewidth=0.3, linestyle='-', color='0.75')\n",
    "    axMW.grid(which='major', axis='y', linewidth=0.5, linestyle='-', color='0.75')\n",
    "    axMW.grid(which='minor', axis='y', linewidth=0.3, linestyle='-', color='0.75')\n",
    "    axMW.xaxis.set_major_formatter(tic.FormatStrFormatter(\"%d\"))\n",
    "    #axMW.xaxis.set_minor_formatter(tic.FormatStrFormatter(\"%d\"))\n",
    "    axMW.grid(True)\n",
    "    symbol=xrl.AtomicNumberToSymbol(Z)\n",
    "    axMW.set_title(\"%s\" % symbol, va='bottom')\n",
    "    #plt.savefig('mu_over_rho_W.pdf', format='PDF')\n",
    "    \n",
    "    plt.show()\n",
    "\n",
    "widgets.interact(mu,Z=(1,92,1),components=False,continuous_update=False);"
   ]
  },
  {
   "cell_type": "code",
   "execution_count": null,
   "metadata": {},
   "outputs": [],
   "source": []
  }
 ],
 "metadata": {
  "hide_input": false,
  "kernelspec": {
   "display_name": "Python 3",
   "language": "python",
   "name": "python3"
  },
  "language_info": {
   "codemirror_mode": {
    "name": "ipython",
    "version": 3
   },
   "file_extension": ".py",
   "mimetype": "text/x-python",
   "name": "python",
   "nbconvert_exporter": "python",
   "pygments_lexer": "ipython3",
   "version": "3.7.4"
  }
 },
 "nbformat": 4,
 "nbformat_minor": 2
}
