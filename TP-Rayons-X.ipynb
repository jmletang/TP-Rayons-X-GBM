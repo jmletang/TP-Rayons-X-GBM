{
 "cells": [
  {
   "cell_type": "markdown",
   "metadata": {},
   "source": [
    "# Travaux Pratiques d'imagerie par rayons X\n",
    "NB : Vous pouvez travailler en groupe mais le travail est à rendre individuellement."
   ]
  },
  {
   "cell_type": "code",
   "execution_count": 1,
   "metadata": {},
   "outputs": [],
   "source": [
    "import numpy as np\n",
    "import xraylib as xrl\n",
    "from xpecgen import xpecgen as xg\n",
    "import ipywidgets as widgets\n",
    "from tabletext import to_text\n",
    "%matplotlib inline\n",
    "import matplotlib.pyplot as plt\n",
    "import matplotlib.ticker as tic\n",
    "import matplotlib as mpl\n",
    "from matplotlib.ticker import (MultipleLocator, FormatStrFormatter, AutoMinorLocator)"
   ]
  },
  {
   "cell_type": "markdown",
   "metadata": {},
   "source": [
    "# Loi d'atténuation\n",
    "Le but est de retrouver le coefficient d’atténuation à 100 keV de matériaux à travers une simulation réaliste en utilisant la loi de Beer-Lambert :\n",
    "$$\n",
    "N_{\\mathrm{dt}}=N_0\\exp(-\\mu(E)X)\n",
    "$$\n",
    "où $N_0$ est le nombre de photons incident sur l'objet d'épaisseur $X$ et $\\mu$ le coefficient d'atténuation linéique à l'énergie $E$.\n",
    "\n",
    "## Conditions expérimentales\n",
    "Le code suivant simule un nombre de photons détectés après avoir traversé 0.1 mm de plomb (Pb, densité 11.35 g.cm$^{⁻3}$) et 3.9 cm de polyéthylène (H$_2$C, densité 0.94 g.cm$^{⁻3}$) étant donné un nombre de photons incidents. Le processus stochastique d'atténuation est reproduit (par une loi de probabilité de Poisson).\n",
    "\n",
    "## Travail demandé\n",
    "Retrouvez le coefficient d'atténuation du plomb et du polyéthylène à 100 keV avec une précision de $10^{-3}$. Il vous faudra adapter le nombre de photons envoyés. Pour mémoire, la loi de propagation d'erreur d'une fonction $y(x_1, ..., x_N)$ est\n",
    "$$\n",
    "\\mathrm{Var}[y]=\\sum_{i=1}^N\\left(\\dfrac{\\partial y}{\\partial x_i}\\right)^2\\mathrm{Var}[x_i]\n",
    "$$\n",
    "où la variance $\\mathrm{Var}[]$ représente le carré de l'erreur (ou écart-type).\n",
    "\n",
    "Vérifiez la concordance du résultat obtenu avec le coefficient d’atténuation linéique théorique obtenu sur la base de données [XCOM](http://physics.nist.gov/PhysRefData/Xcom/html/xcom1.html) de [NIST](http://www.nist.gov/pml/data/xray_gammaray.cfm)."
   ]
  },
  {
   "cell_type": "code",
   "execution_count": 2,
   "metadata": {},
   "outputs": [
    {
     "name": "stdout",
     "output_type": "stream",
     "text": [
      "50 photons ont traversé la plaque de 3.9 cm de polyéthylène sur 100 envoyés\n",
      "49 photons ont traversé la plaque de 0.1 mm de plomb sur 100 envoyés\n"
     ]
    }
   ],
   "source": [
    "def simulator(N0):\n",
    "    dH2C = xrl.GetCompoundDataNISTByName('Polyethylene')['density']\n",
    "    NdtH2C = np.random.poisson(N0*np.exp(-3.9*dH2C*xrl.CS_Total_CP('H2C', 100)))\n",
    "    print('%d photons ont traversé la plaque de 3.9 cm de polyéthylène sur %d envoyés' % (NdtH2C,N0))\n",
    "    dPb = xrl.ElementDensity(82)\n",
    "    NdtPb = np.random.poisson(N0*np.exp(-0.01*dPb*xrl.CS_Total(82, 100)))\n",
    "    print('%d photons ont traversé la plaque de 0.1 mm de plomb sur %d envoyés' % (NdtPb,N0))\n",
    "\n",
    "simulator(100)"
   ]
  },
  {
   "cell_type": "markdown",
   "metadata": {},
   "source": [
    "# Étude du polychromatisme\n",
    "\n",
    "La largeur du spectre en énergie des photons incidents a une forte influence sur la formation de\n",
    "l’image radiologique. Nous l’étudions ici.\n",
    "\n",
    "## Conditions expérimentales. \n",
    "\n",
    "Le logiciel de simulation ci-dessous permet de calculer des spectres tels que générés par les générateurs de rayons X en précisant :\n",
    "- la haute tension U d’accélération des électrons\n",
    "- l'épaisseur d'eau \n",
    "\n",
    "Certaines grandeurs associées aux spectres sont calculées en sortie notamment\n",
    "- la couche de demi-atténuation (en mm d’Al),\n",
    "- l’énergie moyenne des photons du spectre\n",
    "\n",
    "## Travail demandé. \n",
    "\n",
    "Dans le but d’observer l’évolution du spectre en fonction de l’épaisseur d’eau\n",
    "traversée (phénomène de durcissement de faisceau), tracer l’évolution de l’énergie moyenne et de la\n",
    "couche de demi-atténuation en fonction de l’épaisseur d’eau (de 0 mm à 500 mm).\n",
    "\n",
    "### NB : caractéristiques du tube X\n",
    "- réglé pour avoir 1Gy à 1m dans l'air en absence objet\n",
    "- filtration interne de 1.2mm d'aluminium\n"
   ]
  },
  {
   "cell_type": "code",
   "execution_count": 5,
   "metadata": {
    "scrolled": false
   },
   "outputs": [
    {
     "data": {
      "application/vnd.jupyter.widget-view+json": {
       "model_id": "6d56bf13a43446458c19183a39e3b9e5",
       "version_major": 2,
       "version_minor": 0
      },
      "text/plain": [
       "interactive(children=(IntSlider(value=100, description='Haute Tension (kV):', max=200, min=20, step=10, style=…"
      ]
     },
     "metadata": {},
     "output_type": "display_data"
    }
   ],
   "source": [
    "def spectrum(E0,H2O_thickness):\n",
    "    #Calculate a spectrum\n",
    "    xray_spectrum=xg.calculate_spectrum(E0,12,3,100,epsrel=0.5,monitor=None)\n",
    "    #Inherent filtration\n",
    "    xray_spectrum.attenuate(0.12,xg.get_mu(13)) #1.2 mm of Al\n",
    "    xray_spectrum.attenuate(100,xg.get_mu(\"air\")) #100 cm of Air\n",
    "    #Normalize the spectrum in the sense of dose\n",
    "    fluence_to_dose=xg.get_fluence_to_dose()\n",
    "    xray_spectrum.set_norm(value=1,weight=fluence_to_dose)\n",
    "    #Water attenuation    \n",
    "    H2O_mass = 2. * xrl.AtomicWeight(1) + xrl.AtomicWeight(8)\n",
    "    H_weight = H2O_thickness * 2. * xrl.AtomicWeight(1) / (xrl.ElementDensity(1) * H2O_mass)\n",
    "    O_weight = H2O_thickness * xrl.AtomicWeight(8) / (xrl.ElementDensity(8) * H2O_mass)\n",
    "    xray_spectrum.attenuate(H_weight,xg.get_mu(1))\n",
    "    xray_spectrum.attenuate(O_weight,xg.get_mu(8))\n",
    "    #Get the figures\n",
    "    Nr_Photons = \"%.4g\" % (xray_spectrum.get_norm())\n",
    "    Average_Energy = \"%.2f keV\" % (xray_spectrum.get_norm(lambda x:x)/xray_spectrum.get_norm())\n",
    "    Dose = \"%.4g mGy\" % (xray_spectrum.get_norm(fluence_to_dose))\n",
    "    #Calculate HVL\n",
    "    mu_Al=xg.get_mu(13)\n",
    "    HVL_Al=xray_spectrum.hvl(0.5,fluence_to_dose,mu_Al)\n",
    "    HVL_Al_text = \"%.2f mm Al\" % (10*HVL_Al)\n",
    "    a = [[\"Dose à 1m\", Dose],[\"Nombre total de photons\", Nr_Photons],[\"Énergie moyenne des photons\",Average_Energy],[\"Couche de Demie-Atténuation\", HVL_Al_text]]\n",
    "    print(to_text(a))\n",
    "    (x2,y2) = xray_spectrum.get_points()\n",
    "    plt.figure(1,dpi=150)\n",
    "    mpl.rcParams.update({'font.size': 6})\n",
    "    axMW = plt.subplot(111)\n",
    "    axMW.plot(x2,y2)\n",
    "    axMW.set_xlim(3,E0)\n",
    "    axMW.set_ylim(0,)\n",
    "    plt.xlabel(\"Énergie [keV]\")\n",
    "    plt.ylabel(\"Nombre de photons par [keV·cm²·mGy] @ 1m\")\n",
    "    axMW.grid(which='major', axis='x', linewidth=0.5, linestyle='-', color='0.75')\n",
    "    axMW.grid(which='minor', axis='x', linewidth=0.2, linestyle='-', color='0.85')\n",
    "    axMW.grid(which='major', axis='y', linewidth=0.5, linestyle='-', color='0.75')\n",
    "    axMW.grid(which='minor', axis='y', linewidth=0.2, linestyle='-', color='0.85')\n",
    "    axMW.xaxis.set_major_formatter(tic.FormatStrFormatter(\"%d\"))\n",
    "    axMW.yaxis.set_major_formatter(tic.FormatStrFormatter(\"%.2g\"))\n",
    "    axMW.xaxis.set_minor_locator(AutoMinorLocator())\n",
    "    axMW.yaxis.set_minor_locator(AutoMinorLocator())\n",
    "    axMW.grid(True)\n",
    "    plt.show()\n",
    "\n",
    "widgets.interact_manual(spectrum, \n",
    "                        E0 = widgets.IntSlider(min=20, max=200, step=10, value=100., description=\"Haute Tension (kV):\", style={'description_width': 'initial'}),\n",
    "                        H2O_thickness = widgets.IntSlider(min=0, max=500, step=10, value=0., description=\"Eau (mm):\", style={'description_width': 'initial'}));\n"
   ]
  },
  {
   "cell_type": "code",
   "execution_count": null,
   "metadata": {},
   "outputs": [],
   "source": []
  }
 ],
 "metadata": {
  "hide_input": false,
  "kernelspec": {
   "display_name": "Python 3",
   "language": "python",
   "name": "python3"
  },
  "language_info": {
   "codemirror_mode": {
    "name": "ipython",
    "version": 3
   },
   "file_extension": ".py",
   "mimetype": "text/x-python",
   "name": "python",
   "nbconvert_exporter": "python",
   "pygments_lexer": "ipython3",
   "version": "3.7.4"
  }
 },
 "nbformat": 4,
 "nbformat_minor": 2
}
